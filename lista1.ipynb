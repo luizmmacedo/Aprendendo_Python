{
 "cells": [
  {
   "cell_type": "markdown",
   "id": "09cdb028",
   "metadata": {},
   "source": [
    "#### Exercício 1"
   ]
  },
  {
   "cell_type": "markdown",
   "id": "558c6299",
   "metadata": {},
   "source": [
    "📖 Crie uma função que receba uma lista de float como parâmetro, e retorne a média de todos os valores.\n",
    "\n",
    "PS: Faça uma versão utilizando uma função pronta do Python, caso tenha, e uma versão criada por você."
   ]
  },
  {
   "cell_type": "code",
   "execution_count": null,
   "id": "c6c9517b",
   "metadata": {},
   "outputs": [
    {
     "data": {
      "text/plain": [
       "4.5"
      ]
     },
     "execution_count": 91,
     "metadata": {},
     "output_type": "execute_result"
    }
   ],
   "source": [
    "# Uma função pronta do Python\n",
    "# faça o código aqui\n",
    "lista = [1, 2, 3, 4, 5, 6, 7, 8]\n",
    "def media_valor (lista):\n",
    "    \"\"\"Função para calcula a media de numeros\"\"\"\n",
    "    soma = 0\n",
    "    for valor in lista:\n",
    "        soma = valor + soma\n",
    "    media = soma /len(lista)    \n",
    "    return media\n",
    "media_valor (lista)\n",
    "\n"
   ]
  },
  {
   "cell_type": "code",
   "execution_count": null,
   "id": "a5627366",
   "metadata": {},
   "outputs": [
    {
     "data": {
      "text/plain": [
       "4.5"
      ]
     },
     "execution_count": 56,
     "metadata": {},
     "output_type": "execute_result"
    }
   ],
   "source": [
    "# faça o código aqui\n",
    "lista = [1, 2, 3, 4, 5, 6, 7, 8]\n",
    "\n",
    "def tamanho_lista(lista):\n",
    "    \"\"\"Função para calcular o tamanho da lista\"\"\"\n",
    "    tamanho = 0\n",
    "    for i in  (lista):\n",
    "        tamanho = tamanho + 1\n",
    "    return tamanho\n",
    "\n",
    "def media_valor (lista):\n",
    "    \"\"\"Função para calcula a media de numeros\"\"\"\n",
    "    soma = 0\n",
    "    for valor in lista:\n",
    "        soma = valor + soma\n",
    "  \n",
    "    media = soma /tamanho_lista (lista)    \n",
    "\n",
    "    return media\n",
    "\n",
    "media_valor (lista)\n"
   ]
  },
  {
   "cell_type": "markdown",
   "id": "a543397e",
   "metadata": {},
   "source": [
    "#### Exercício 2 - Soma de Números Pares"
   ]
  },
  {
   "cell_type": "markdown",
   "id": "08eff84e",
   "metadata": {},
   "source": [
    "📖 Crie uma função que receba um número inteiro n e calcule a soma de todos os números pares de 1 até n.\n",
    "\n",
    "PS: Um número par é divisível por 2."
   ]
  },
  {
   "cell_type": "code",
   "execution_count": 90,
   "id": "2604abb0",
   "metadata": {},
   "outputs": [
    {
     "data": {
      "text/plain": [
       "20"
      ]
     },
     "execution_count": 90,
     "metadata": {},
     "output_type": "execute_result"
    }
   ],
   "source": [
    "# faça o código aqui\n",
    "n = 8\n",
    "def calcula_soma (n : int):\n",
    "    \"\"\"Função para calular a soma de 1 até 'n' \"\"\"\n",
    "    i = 0\n",
    "    soma = 0\n",
    "    while i <= n:\n",
    "        if i % 2 == 0 :\n",
    "            soma += i\n",
    "        i += 1\n",
    "    return soma\n",
    "\n",
    "calcula_soma(n)"
   ]
  },
  {
   "cell_type": "markdown",
   "id": "7d7fa64b",
   "metadata": {},
   "source": [
    "#### Exercício 3 - Tabuada"
   ]
  },
  {
   "cell_type": "markdown",
   "id": "099a675f",
   "metadata": {},
   "source": [
    "📖 Crie uma função que receba um número inteiro e imprima a tabuada desse número, de 1 até 10.\n",
    "\n",
    "Desafio: Utilize um laço for e operadores de multiplicação."
   ]
  },
  {
   "cell_type": "code",
   "execution_count": 114,
   "id": "c359b4af",
   "metadata": {},
   "outputs": [
    {
     "name": "stdout",
     "output_type": "stream",
     "text": [
      "A tabuade de 1 até 10 do numero 10 é:\n",
      "10 x 1 = 10\n",
      "10 x 2 = 20\n",
      "10 x 3 = 30\n",
      "10 x 4 = 40\n",
      "10 x 5 = 50\n",
      "10 x 6 = 60\n",
      "10 x 7 = 70\n",
      "10 x 8 = 80\n",
      "10 x 9 = 90\n",
      "10 x 10 = 100\n"
     ]
    }
   ],
   "source": [
    "# faça o código aqui\n",
    "tabuada = 10\n",
    "\n",
    "def tabuada_n (tabuada):\n",
    "    \"\"\"Calcular a tabuada de um n de 1 ate 10\"\"\"\n",
    "    multiplicador = 1\n",
    "    print (\"A tabuade de 1 até 10 do numero\", tabuada, \"é:\")\n",
    "    for i in  range (10):\n",
    "        multiplicado = multiplicador * tabuada\n",
    "        print (tabuada, \"x\", multiplicador, \"=\", multiplicado)\n",
    "        multiplicador += 1\n",
    "        \n",
    "tabuada_n (tabuada)\n"
   ]
  },
  {
   "cell_type": "markdown",
   "id": "cc0b5c47",
   "metadata": {},
   "source": [
    "#### Exercício 4 - Calculadora Simples"
   ]
  },
  {
   "cell_type": "markdown",
   "id": "3d05b63e",
   "metadata": {},
   "source": [
    "📖 Crie uma função que receba dois números e um operador (+, -, *, /), e retorne o resultado da operação. Caso o operador seja inválido, retorne uma mensagem de erro.\n",
    "\n",
    "Desafio: Utilize if ou elif para checar qual operação deve ser feita."
   ]
  },
  {
   "cell_type": "code",
   "execution_count": null,
   "id": "027365d8",
   "metadata": {},
   "outputs": [
    {
     "data": {
      "text/plain": [
       "2.0"
      ]
     },
     "execution_count": 16,
     "metadata": {},
     "output_type": "execute_result"
    }
   ],
   "source": [
    "# faça o código aqui\n",
    "numero1 = 10\n",
    "numero2 = 5\n",
    "operacao = \"/\"\n",
    "def calculadora (n1, n2, operacao):\n",
    "    \"\"\"Calula (+, -, *, /) de um numero\"\"\"\n",
    "    resultado = 0\n",
    "    if operacao == \"+\":\n",
    "        resultado = n1 + n2    \n",
    "    elif operacao == \"-\":\n",
    "        resultado = n1 - n2    \n",
    "    elif operacao == \"*\":\n",
    "        resultado = n1 * n2\n",
    "    elif operacao == \"/\":\n",
    "        resultado = n1 / n2\n",
    "\n",
    "    return resultado\n",
    "\n",
    "calculadora (numero1, numero2, operacao)     \n"
   ]
  },
  {
   "cell_type": "markdown",
   "id": "ccd875d9",
   "metadata": {},
   "source": [
    "#### Exercício 5 - Conversão de Temperatura (Celsius para Fahrenheit)"
   ]
  },
  {
   "cell_type": "markdown",
   "id": "a6610e8e",
   "metadata": {},
   "source": [
    "📖 Crie uma função que converta uma temperatura de Celsius para Fahrenheit. A fórmula é:\n",
    "\n",
    "Farenheit = (Celsius x 9/5) + 32\n",
    "\n",
    "Desafio: A função deve receber o valor em Celsius e retornar o valor em Fahrenheit."
   ]
  },
  {
   "cell_type": "code",
   "execution_count": null,
   "id": "575e6ca0",
   "metadata": {},
   "outputs": [
    {
     "data": {
      "text/plain": [
       "32.54"
      ]
     },
     "execution_count": 96,
     "metadata": {},
     "output_type": "execute_result"
    }
   ],
   "source": [
    "# faça o código aqui\n",
    "celsius = 0.3\n",
    "def converter_temperatura (celsius):\n",
    "    \"\"\"Converter farehnhei em celsius\"\"\"\n",
    "    farenheit = ((celsius*9)/5) + 32\n",
    "    #farenheit = ((celsius*1.8)/5) +32\n",
    "    return farenheit\n",
    "converter_temperatura (celsius)"
   ]
  },
  {
   "cell_type": "markdown",
   "id": "ce56d6e0",
   "metadata": {},
   "source": [
    "#### Exercício 6 - Imprimir Padrão de Asteriscos"
   ]
  },
  {
   "cell_type": "markdown",
   "id": "cb673500",
   "metadata": {},
   "source": [
    "📖 Crie uma função que imprima um padrão de asteriscos com n linhas, onde cada linha tem um número crescente de asteriscos. Exemplo para n=5:\n",
    "\n",
    "```\n",
    "*\n",
    "**\n",
    "***\n",
    "****\n",
    "*****\n",
    "```"
   ]
  },
  {
   "cell_type": "code",
   "execution_count": null,
   "id": "3c66079b",
   "metadata": {},
   "outputs": [
    {
     "name": "stdout",
     "output_type": "stream",
     "text": [
      "*\n",
      "**\n",
      "***\n",
      "****\n",
      "*****\n"
     ]
    }
   ],
   "source": [
    "# faça o código aqui\n",
    "quantidade = 10\n",
    "def imprimir_asteristicos (quantidade):\n",
    "    \"\"\"Imprimir asterisitcos\"\"\"\n",
    "    asteristicos = \"*\"\n",
    "    while quantidade > 0 :\n",
    "        print(asteristicos)\n",
    "        asteristicos += \"*\"\n",
    "        \n",
    "        quantidade -= 1\n",
    "\n",
    "imprimir_asteristicos (quantidade)\n",
    "#teste"
   ]
  },
  {
   "cell_type": "markdown",
   "id": "6e31839b",
   "metadata": {},
   "source": [
    "#### Exercício 7 - Palíndromo"
   ]
  },
  {
   "cell_type": "markdown",
   "id": "c509faf1",
   "metadata": {},
   "source": [
    "📖 Crie uma função que determine se uma palavra é um palíndromo (se ela é igual quando lida de trás para frente, como \"arara\").\n",
    "\n",
    "Desafio: Utilize manipulação de strings e laços for."
   ]
  },
  {
   "cell_type": "code",
   "execution_count": null,
   "id": "10438f7d",
   "metadata": {},
   "outputs": [
    {
     "data": {
      "text/plain": [
       "False"
      ]
     },
     "execution_count": 118,
     "metadata": {},
     "output_type": "execute_result"
    }
   ],
   "source": [
    "# faça o código aqui\n",
    "palindromo = \"arara\"\n",
    "\n",
    "def e_palindromo (palindromo):\n",
    "    \"\"\"Verificar se uma palavra é palindromo\"\"\"\n",
    "    aux = 0\n",
    "    indece_traz_frente = 0\n",
    "    armazanea = []\n",
    "    armazanea2 = []\n",
    "\n",
    "    for i in palindromo:\n",
    "        armazanea.append(i)\n",
    "        \n",
    "    for j in range(0, len(armazanea)):\n",
    "      \n",
    "        indece_traz_frente = (len(armazanea)-1) - j   \n",
    "        armazanea2.append(palindromo[indece_traz_frente])\n",
    "    \n",
    "        \n",
    "   \n",
    "    if armazanea == armazanea2:\n",
    "        return (True)\n",
    "    else:\n",
    "        return (False)\n",
    "\n",
    "e_palindromo(palindromo)        "
   ]
  },
  {
   "cell_type": "markdown",
   "id": "4b43da26",
   "metadata": {},
   "source": [
    "#### Exercício 8 - Maior e Menor Número de uma Lista"
   ]
  },
  {
   "cell_type": "markdown",
   "id": "e04b0670",
   "metadata": {},
   "source": [
    "📖 Crie uma função que receba uma lista de números e retorne o maior e o menor valor presentes na lista.\n",
    "\n",
    "Desafio: Utilize laços for e operadores de comparação."
   ]
  },
  {
   "cell_type": "code",
   "execution_count": null,
   "id": "fcb71d25",
   "metadata": {},
   "outputs": [
    {
     "data": {
      "text/plain": [
       "(10, 1)"
      ]
     },
     "execution_count": 33,
     "metadata": {},
     "output_type": "execute_result"
    }
   ],
   "source": [
    "# faça o código aqui\n",
    "lista8 = [5, 2, 3 ,10 ,8 ,1]\n",
    "def maior_ou_menor(maior_menor):\n",
    "    \"\"\"Calcula o maior e menor numero de uma lista\"\"\"\n",
    "    maior = maior_menor[0]\n",
    "    menor = maior_menor[0]\n",
    "    for i in maior_menor:\n",
    "        if i > maior:\n",
    "            maior = i\n",
    "        elif i<menor:\n",
    "            menor = i\n",
    "    return(maior, menor)\n",
    "    \n",
    "maior_ou_menor (lista8)\n"
   ]
  },
  {
   "cell_type": "markdown",
   "id": "35ce878a",
   "metadata": {},
   "source": [
    "#### Exercício 9 - Contagem de Caracteres"
   ]
  },
  {
   "cell_type": "markdown",
   "id": "7c124e61",
   "metadata": {},
   "source": [
    "📖 Crie uma função que receba uma string e retorne um dicionário contendo a contagem de cada caractere na string.\n",
    "\n",
    "Desafio: Utilize um laço for para percorrer a string e um dicionário para armazenar as contagens.\n",
    "\n",
    "Exemplo: \"abelha\"\n",
    "```\n",
    "retorno = {\n",
    "    \"a\": 2,\n",
    "    \"b\": 1,\n",
    "    \"e\": 1,\n",
    "    \"l\": 1,\n",
    "    \"h\": 1\n",
    "}\n",
    "```"
   ]
  },
  {
   "cell_type": "code",
   "execution_count": null,
   "id": "a728ee4b",
   "metadata": {},
   "outputs": [
    {
     "data": {
      "text/plain": [
       "{'a': 2, 'b': 1, 'e': 1, 'l': 1, 'h': 1}"
      ]
     },
     "execution_count": 76,
     "metadata": {},
     "output_type": "execute_result"
    }
   ],
   "source": [
    "# faça o código aqui\n",
    "exercicio9 = \"abelha\" \n",
    "def  contagem_caracteres (palavra):\n",
    "    \"\"\"Contagem de cada letra na string\"\"\"\n",
    "    dicionario = {\n",
    "    }\n",
    "    count = 0\n",
    "    repetida = []\n",
    "    for i in palavra:\n",
    "        if i != repetida:\n",
    "            for j in palavra: \n",
    "                if i == j:\n",
    "                  count += 1 \n",
    "        dicionario[i] = count\n",
    "        count = 0\n",
    "        repetida.append(i) \n",
    "    return dicionario    \n",
    "\n",
    "contagem_caracteres(exercicio9)"
   ]
  },
  {
   "cell_type": "markdown",
   "id": "98776748",
   "metadata": {},
   "source": [
    "#### Exercício 10 - Cálculo de Potência de um Número"
   ]
  },
  {
   "cell_type": "markdown",
   "id": "9a70cd69",
   "metadata": {},
   "source": [
    "📖 Crie uma função que calcule a potência de um número base elevado a um expoente (ou seja, base ** expoente), sem usar o operador ** ou a função pow().\n",
    "\n",
    "Desafio: Utilize um laço for para multiplicar a base por si mesma o número de vezes correspondente ao expoente."
   ]
  },
  {
   "cell_type": "code",
   "execution_count": null,
   "id": "f84e88d0",
   "metadata": {},
   "outputs": [
    {
     "data": {
      "text/plain": [
       "8"
      ]
     },
     "execution_count": 48,
     "metadata": {},
     "output_type": "execute_result"
    }
   ],
   "source": [
    "# faça o código aqui\n",
    "base = 2\n",
    "expoente = 3\n",
    "\n",
    "def potencia_numero (base, expoente):\n",
    "    \"\"\"Potencia de uma base elevado a um expoente\"\"\"\n",
    "    calculo = 1\n",
    "    for i in range (expoente):\n",
    "        calculo *= base\n",
    "    return (calculo)\n",
    "\n",
    "potencia_numero (base,expoente)\n"
   ]
  }
 ],
 "metadata": {
  "kernelspec": {
   "display_name": ".venv",
   "language": "python",
   "name": "python3"
  },
  "language_info": {
   "codemirror_mode": {
    "name": "ipython",
    "version": 3
   },
   "file_extension": ".py",
   "mimetype": "text/x-python",
   "name": "python",
   "nbconvert_exporter": "python",
   "pygments_lexer": "ipython3",
   "version": "3.10.12"
  }
 },
 "nbformat": 4,
 "nbformat_minor": 5
}

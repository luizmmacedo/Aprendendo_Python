{
 "cells": [
  {
   "cell_type": "markdown",
   "id": "09cdb028",
   "metadata": {},
   "source": [
    "#### Exercício 1 - Classe Conta Bancária"
   ]
  },
  {
   "cell_type": "markdown",
   "id": "558c6299",
   "metadata": {},
   "source": [
    "📖 Crie uma classe Conta com atributos titular e saldo. Adicione métodos para depositar, sacar e mostrar saldo."
   ]
  },
  {
   "cell_type": "code",
   "execution_count": null,
   "id": "b4d7d254",
   "metadata": {},
   "outputs": [
    {
     "name": "stdout",
     "output_type": "stream",
     "text": [
      "Mostrando o saldo do titular:\n",
      " O titular Luiz, possui um saldo de R$39.00 \n",
      "\n",
      "Depositando na conta do titular:\n",
      " Você depositou R$50.00, o seu novo saldo é R$89.00 \n",
      "\n",
      "Sacando na conta do titular:\n",
      " Você sacou R$5.00, o seu novo saldo é R$84.00 \n",
      "\n",
      "Mostando o novo saldo apos as opreações:\n",
      " O titular Luiz, possui um saldo de R$84.00 \n",
      "\n"
     ]
    }
   ],
   "source": [
    "# faça o código aqui\n",
    "class conta:  \n",
    "    def __init__(self, titular :str, saldo :float):  \n",
    "        self.titular: str = titular  \n",
    "        self.saldo: float = saldo  \n",
    "  \n",
    "    def __str__(self):  \n",
    "        return f'O titular dessa conta é: {self.titular} e o saldo é R${self.saldo}'  \n",
    "      \n",
    "    def depositar (self, deposito: float) -> str:  \n",
    "        self.deposito : int = deposito  \n",
    "        if deposito > 0:  \n",
    "            self.saldo = self.saldo + self.deposito  \n",
    "            return f'Você depositou R${self.deposito:.2f}, o seu novo saldo é R${self.saldo:.2f} '  \n",
    "        else:  \n",
    "            return f'Atenção, não é possivel despositar valores menor ou igual a zero!'  \n",
    "          \n",
    "    def sacar (self, saque: float) -> str:  \n",
    "        self.saque : int = saque  \n",
    "        if saque > 0:  \n",
    "            self.saldo = self.saldo - self.saque  \n",
    "            return f'Você sacou R${self.saque:.2f}, o seu novo saldo é R${self.saldo:.2f} '  \n",
    "        else:  \n",
    "            return f'Atenção, para realizar saques você deve colocar um valor positivo!'  \n",
    "          \n",
    "    def mostrar_saldo (self, nome: str) -> str:  \n",
    "        if nome == self.titular :  \n",
    "            return f'O titular {self.titular}, possui um saldo de R${self.saldo:.2f} '  \n",
    "        else:  \n",
    "            return f'Atenção, titular inexistente!'      \n",
    "  \n",
    "saldo_inicial = 39  \n",
    "valor_deposito = 50  \n",
    "valor_sacar = 5  \n",
    "titular = \"Luiz\"  \n",
    "  \n",
    "conta1 = conta(titular, saldo_inicial)  \n",
    "print (f'Mostrando o saldo do titular:\\n {conta1.mostrar_saldo(titular)}\\n')  \n",
    "print (f'Depositando na conta do titular:\\n {conta1.depositar(valor_deposito)}\\n')  \n",
    "print (f'Sacando na conta do titular:\\n {conta1.sacar(valor_sacar)}\\n')  \n",
    "print (f'Mostando o novo saldo apos as opreações:\\n {conta1.mostrar_saldo(titular)}\\n')  \n",
    "      "
   ]
  },
  {
   "cell_type": "markdown",
   "id": "a543397e",
   "metadata": {},
   "source": [
    "#### Exercício 2 - Classe Produto"
   ]
  },
  {
   "cell_type": "markdown",
   "id": "08eff84e",
   "metadata": {},
   "source": [
    "📖 Crie uma classe Produto com nome, preço e quantidade.\n",
    "\n",
    "Adicione um método `__str__` para imprimir detalhes do produto.\n",
    "\n",
    "Crie métodos para alterar o preço e a quantidade com validação (não aceitar valores negativos)."
   ]
  },
  {
   "cell_type": "code",
   "execution_count": null,
   "id": "790aacb7",
   "metadata": {},
   "outputs": [
    {
     "name": "stdout",
     "output_type": "stream",
     "text": [
      "Mostrando o produto:\n",
      " O produto Tenis Nike possui um estoque de 3 item por R$21.50 a unidade\n",
      "\n",
      "Mudando quantidade do estoque :\n",
      " Foi retirado 2 itens do estoque de Tenis Nike, novo saldo: 1 itens em estoque!\n",
      "\n",
      "Mudando o valor do produto:\n",
      " Foi alterado o valor de Tenis Nike para R$20.00 a unidade!\n",
      "\n",
      "Mostrando o produto apos as operaçoes:\n",
      " O produto Tenis Nike possui um estoque de 1 item por R$20.00 a unidade\n",
      "\n"
     ]
    }
   ],
   "source": [
    "# faça o código aqui\n",
    "class Produto:\n",
    "    def __init__(self, produto :str, preco :float, quantidade: int):\n",
    "        self.produto: str = produto\n",
    "        self.preco: float = preco\n",
    "        self.quantidade: float = quantidade\n",
    "\n",
    "    def __str__(self):\n",
    "        return f'O produto {self.produto} possui um estoque de {self.quantidade} item por R${self.preco:.2f} a unidade'\n",
    "\n",
    "    def mudar_estoque (self, balanço: int) -> str:\n",
    "        verificador = self.quantidade - balanço\n",
    "        if verificador < 0:\n",
    "            return f'Não é possivel retirar {balanço} itens de estoque, pois so possuimos {self.quantidade} itens em estoque!'\n",
    "        else:\n",
    "            self.quantidade -= balanço\n",
    "            return f'Foi retirado {balanço} itens do estoque de {self.produto}, novo saldo: {self.quantidade} itens em estoque!'\n",
    "\n",
    "    def mudar_valor (self, alterar_valor: int) -> str:\n",
    "        verificador = self.preco - alterar_valor\n",
    "        if verificador < 0:\n",
    "            return f'Não é possivel alterar para valores menores que 0!'\n",
    "        else:\n",
    "            self.preco -= alterar_valor\n",
    "            return f'Foi alterado o valor de {self.produto} para R${self.preco:.2f} a unidade!'\n",
    "        \n",
    "novo_estoque = 2\n",
    "novo_valor = 1.50\n",
    "\n",
    "produto1 = Produto(\"Tenis Nike\", 21.50, 3)\n",
    "\n",
    "print (f'Mostrando o produto:\\n {produto1}\\n')\n",
    "print (f'Mudando quantidade do estoque :\\n {produto1.mudar_estoque(novo_estoque)}\\n')\n",
    "print (f'Mudando o valor do produto:\\n {produto1.mudar_valor(novo_valor)}\\n')\n",
    "print (f'Mostrando o produto apos as operaçoes:\\n {produto1}\\n')\n"
   ]
  },
  {
   "cell_type": "markdown",
   "id": "7d7fa64b",
   "metadata": {},
   "source": [
    "#### Exercício 3 - Classe Livro"
   ]
  },
  {
   "cell_type": "markdown",
   "id": "099a675f",
   "metadata": {},
   "source": [
    "📖 Crie uma classe Livro com título, autor, e número de páginas.\n",
    "\n",
    "Implemente um método que diz se o livro é “curto” (<100 pág), “médio” ou “longo”."
   ]
  },
  {
   "cell_type": "code",
   "execution_count": 38,
   "id": "1ad87a13",
   "metadata": {},
   "outputs": [
    {
     "name": "stdout",
     "output_type": "stream",
     "text": [
      "Mostrando o livro\n",
      " O livro O Hobbit do autor J. R. R. Tolkien possui 548 páginas\n",
      "\n",
      "Verificando o tamanho:\n",
      " O livro O Hobbit é um livro grande com 548\n",
      "\n"
     ]
    }
   ],
   "source": [
    "# faça o código aqui\n",
    "class livro():\n",
    "    def __init__(self, titulo :str, autor: str, numero_paginas: int):\n",
    "        self.titulo: str = titulo\n",
    "        self.autor: str = autor\n",
    "        self.numero_paginas: int = numero_paginas\n",
    "\n",
    "    def __str__(self):\n",
    "        return f'O livro {self.titulo} do autor {self.autor} possui {self.numero_paginas} páginas'\n",
    "    \n",
    "    def tamanho_livro(self, nome: str) -> str:\n",
    "        if nome == self.titulo:\n",
    "            if self.numero_paginas <100 : \n",
    "                return f'O livro {self.titulo} é um livro curto com {self.numero_paginas}'\n",
    "            elif (self.numero_paginas >=100) and (self.numero_paginas < 200): \n",
    "                return f'O livro {self.titulo} é um livro medio com {self.numero_paginas}'\n",
    "            elif (self.numero_paginas >=200):  \n",
    "                return f'O livro {self.titulo} é um livro grande com {self.numero_paginas}'\n",
    "        else:\n",
    "            return f'O livro {nome} não existe no banco de dados!'\n",
    "    \n",
    "livro1 =livro(\"Turma da Monica\", \"Mauricio de Souza\", 99)\n",
    "livro2=livro(\"Diario de um banana\", \"Algum autor\", 125)\n",
    "livro3 =livro(\"O Hobbit\", \"J. R. R. Tolkien\", 548)\n",
    "\n",
    "print (f'Mostrando o livro\\n {livro3}\\n')\n",
    "print (f'Verificando o tamanho:\\n {livro3.tamanho_livro(\"O Hobbit\")}\\n')\n",
    " "
   ]
  },
  {
   "cell_type": "markdown",
   "id": "cc0b5c47",
   "metadata": {},
   "source": [
    "#### Exercício 4 - Classe Biblioteca"
   ]
  },
  {
   "cell_type": "markdown",
   "id": "3d05b63e",
   "metadata": {},
   "source": [
    "📖 Crie uma classe Biblioteca com nome, endereço, e uma lista de livros.\n",
    "\n",
    "Implemente um método que retorna a quantidade de livros presente na biblioteca."
   ]
  },
  {
   "cell_type": "code",
   "execution_count": null,
   "id": "a8f40527",
   "metadata": {},
   "outputs": [
    {
     "name": "stdout",
     "output_type": "stream",
     "text": [
      "A biblioteca: A Biblioteca dos Sonhos no endereço Rua do Alfandegueiros, Bairro WSL, Numero 131 possui os seguintes livros: ['O senhor dos Aneis', 'Harry Potter', 'O Vendedor de Sonhos', 'Python', 'HTML', 'CSS'] \n",
      "A biblioteca A Biblioteca dos Sonhos possui 6 livros.\n",
      "\n",
      "A biblioteca: Biblioteca da Esquina no endereço Rua Amapa, Bairro Inovação,  456 possui os seguintes livros: ['O senhor dos Aneis', 'Harry Potter', 'O Vendedor de Sonhos'] \n",
      "A biblioteca Biblioteca da Esquina possui 3 livros.\n"
     ]
    }
   ],
   "source": [
    "# faça o código aqui\n",
    "class Biblioteca:\n",
    "    def __init__(self, nome: str, endereco: str, livros: list):\n",
    "        self.nome: str = nome\n",
    "        self.endereco: str = endereco\n",
    "        self.livros: list = livros\n",
    "\n",
    "    def __str__(self):\n",
    "        return f'A biblioteca: {self.nome} no endereço {self.endereco} possui os seguintes livros: {self.livros} '\n",
    "\n",
    "    def quantidade_livros(self, nome_biblioteca: str) ->str :\n",
    "        if nome_biblioteca == self.nome:\n",
    "            qnt_livros = len(self.livros)\n",
    "            return f'A biblioteca {nome_biblioteca} possui {qnt_livros} livros.'\n",
    "        else:\n",
    "            return f'Biblioteca inexistente no banco de dados!'\n",
    "\n",
    "livroA = \"O senhor dos Aneis\"\n",
    "livroB = \"Harry Potter\"\n",
    "livroC = \"O Vendedor de Sonhos\"\n",
    "\n",
    "livroD =\"Python\"\n",
    "livroE = \"HTML\"\n",
    "livroF = \"CSS\"\n",
    "\n",
    "lista_livros1 = [livroA,livroB,livroC]\n",
    "lista_livros2 = [livroA,livroB,livroC,livroD,livroE,livroF]\n",
    "\n",
    "biblioteca_media = Biblioteca(\"A Biblioteca dos Sonhos\", \"Rua do Alfandegueiros, Bairro WSL, Numero 131\", lista_livros2)\n",
    "biblioteca_pequena = Biblioteca(\"Biblioteca da Esquina\", \"Rua Amapa, Bairro Inovação,  456\", lista_livros1)\n",
    "\n",
    "print (biblioteca_media)\n",
    "print (f'{biblioteca_media.quantidade_livros(\"A Biblioteca dos Sonhos\")}\\n')\n",
    "\n",
    "print (biblioteca_pequena)\n",
    "print (f'{biblioteca_pequena.quantidade_livros(\"Biblioteca da Esquina\")}')"
   ]
  },
  {
   "cell_type": "markdown",
   "id": "ccd875d9",
   "metadata": {},
   "source": [
    "#### Exercício 5 - Função"
   ]
  },
  {
   "cell_type": "markdown",
   "id": "a6610e8e",
   "metadata": {},
   "source": [
    "📖  Implemente uma função que recebe uma lista de bibliotecas e informa qual a biblioteca com mais livros."
   ]
  },
  {
   "cell_type": "code",
   "execution_count": 76,
   "id": "7e46c167",
   "metadata": {},
   "outputs": [
    {
     "name": "stdout",
     "output_type": "stream",
     "text": [
      "A biblioteca com mais livros é \"A Biblioteca dos Sonhos\" com 6 livros.\n"
     ]
    }
   ],
   "source": [
    "# faça o código aqui\n",
    "def maior_biblioteca (lista_bibliotecas: list) -> str :\n",
    "        if len(lista_bibliotecas) <= 0:\n",
    "            return \"Nenhuma biblioteca foi fornecida.\"\n",
    "\n",
    "        biblioteca_maior = lista_bibliotecas[0]\n",
    "\n",
    "        for biblioteca in lista_bibliotecas[1:]:\n",
    "            if len(biblioteca.livros) > len(biblioteca_maior.livros):\n",
    "                biblioteca_maior = biblioteca\n",
    "        return f'A biblioteca com mais livros é \"{biblioteca_maior.nome}\" com {len(biblioteca_maior.livros)} livros.'\n",
    "        \n",
    "todas_bibliotecas = [biblioteca_media, biblioteca_pequena]\n",
    " \n",
    "print(maior_biblioteca(todas_bibliotecas))\n",
    "\n"
   ]
  }
 ],
 "metadata": {
  "kernelspec": {
   "display_name": ".venv",
   "language": "python",
   "name": "python3"
  },
  "language_info": {
   "codemirror_mode": {
    "name": "ipython",
    "version": 3
   },
   "file_extension": ".py",
   "mimetype": "text/x-python",
   "name": "python",
   "nbconvert_exporter": "python",
   "pygments_lexer": "ipython3",
   "version": "3.12.3"
  }
 },
 "nbformat": 4,
 "nbformat_minor": 5
}

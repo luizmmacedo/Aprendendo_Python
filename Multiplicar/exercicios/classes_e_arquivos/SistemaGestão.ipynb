{
 "cells": [
  {
   "cell_type": "markdown",
   "id": "e6270c0a",
   "metadata": {},
   "source": [
    "\tSistema de Gestão:\n",
    "\n",
    "Classe Pessoa: (nome, idade, e-mail)  __str__\n",
    "\n",
    "-Classe Cliente: (Endereço_entrega)\n",
    "\n",
    "-Classe Funcionário: (Cargo, Salario)\n",
    "\n",
    "\n",
    "\n",
    "Classe Produto: (nome, preço, quantidade estoque)\n",
    "\n",
    "-Classe Eletrônico: (Marca...)\n",
    "\n",
    "-Classe Alimento: (Data_Validade)\n",
    "\n",
    "\n"
   ]
  },
  {
   "cell_type": "code",
   "execution_count": null,
   "id": "194cd5b7",
   "metadata": {},
   "outputs": [
    {
     "name": "stdout",
     "output_type": "stream",
     "text": [
      "A pessoa Luiz, tem 21 anos e o email luizmmacedo07@gmail.com.\n"
     ]
    }
   ],
   "source": [
    "#Sistema de Gestão\n",
    "\n",
    "class Pessoa:\n",
    "    def __init__(self, nome: str, idade: int, email: str) :\n",
    "        self.nome: str = nome\n",
    "        self.idade: int = idade\n",
    "        self.email: str = email\n",
    "    \n",
    "    def __str__(self):\n",
    "        return f'A pessoa {self.nome}, tem {self.idade} anos e o email {self.email}.'\n",
    "\n",
    "class Cliente(Pessoa):\n",
    "    def __init__(self, nome: str, idade: int, email: str, endereco_entrega: str):\n",
    "        super().__init__(nome,idade,email)\n",
    "        self.endereco_entrega: str = endereco_entrega\n",
    "\n",
    "\n",
    "\n",
    "\n",
    "\n",
    "\n",
    "\n",
    "\n",
    "\n",
    "\n",
    "\n",
    "\n",
    "\n",
    "\n",
    "uma_pessoa = Pessoa(\"Luiz\", 21, \"luizmmacedo07@gmail.com\")\n",
    "print (uma_pessoa)\n",
    "    "
   ]
  }
 ],
 "metadata": {
  "kernelspec": {
   "display_name": ".venv",
   "language": "python",
   "name": "python3"
  },
  "language_info": {
   "codemirror_mode": {
    "name": "ipython",
    "version": 3
   },
   "file_extension": ".py",
   "mimetype": "text/x-python",
   "name": "python",
   "nbconvert_exporter": "python",
   "pygments_lexer": "ipython3",
   "version": "3.11.9"
  }
 },
 "nbformat": 4,
 "nbformat_minor": 5
}

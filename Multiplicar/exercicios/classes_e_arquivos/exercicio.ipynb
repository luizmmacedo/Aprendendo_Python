{
 "cells": [
  {
   "cell_type": "markdown",
   "id": "b263f9ba",
   "metadata": {},
   "source": [
    "#### 📖 Exercício para fixação de classes e manipulação de arquivos"
   ]
  },
  {
   "cell_type": "markdown",
   "id": "6a6a51a8",
   "metadata": {},
   "source": [
    "Objetivo:\n",
    "Desenvolver um sistema de gestão que manipula informações de clientes e produtos utilizando conceitos de programação orientada a objetos, como herança, polimorfismo e manipulação de arquivos.\n",
    "O sistema deverá permitir cadastrar, listar e editar tanto clientes quanto produtos, utilizando arquivos para persistir os dados.\n",
    "\n",
    "Requisitos:\n",
    "\n",
    "__Classes e Herança__:\n",
    "\n",
    "- Criar uma classe `Pessoa`, que será a classe base para as classes `Cliente` e `Funcionario`.\n",
    "A classe `Pessoa` deve armazenar os dados comuns (nome, idade, e-mail) e métodos genéricos (como `__str__`).\n",
    "\n",
    "- A classe `Cliente` deve herdar de `Pessoa` e adicionar um atributo específico: endereço de entrega.\n",
    "\n",
    "- A classe `Funcionario` deve herdar de `Pessoa` e adicionar atributos como cargo e salário.\n",
    "\n",
    "__Cadastro de Produtos__:\n",
    "\n",
    "- Criar uma classe `Produto` que possua atributos como nome, preço e quantidade em estoque.\n",
    "\n",
    "- Criar subclasses de `Produto` para tipos específicos de produtos, como `Eletronico` e `Alimento`.\n",
    "Essas subclasses podem adicionar atributos específicos, como marca para eletrônicos e data de validade para alimentos.\n",
    "\n",
    "__Manipulação de Arquivos__:\n",
    "\n",
    "- Utilizar arquivos JSON para salvar os dados de clientes, funcionários e produtos.\n",
    "\n",
    "- A cada nova adição ou alteração, o sistema deve salvar as modificações no arquivo correspondente.\n",
    "\n",
    "- Criar funções que permitam carregar e salvar os dados de clientes, funcionários e produtos de/para os arquivos.\n",
    "\n",
    "__Funcionalidades do Sistema__:\n",
    "\n",
    "- Cadastro de Clientes: Permitir o cadastro de novos clientes, incluindo informações de nome, idade, e-mail e endereço de entrega.\n",
    "\n",
    "- Cadastro de Funcionários: Permitir o cadastro de novos funcionários, incluindo nome, idade, e-mail, cargo e salário.\n",
    "\n",
    "- Cadastro de Produtos: Permitir o cadastro de novos produtos.\n",
    "\n",
    "- Listagem de Itens: Exibir listas de todos os clientes, funcionários e produtos cadastrados.\n",
    "\n",
    "- Edição de Cadastro: Permitir a edição de informações de clientes, funcionários ou produtos.\n",
    "\n",
    "- Relatório de Estoque: Exibir um relatório do estoque de produtos, com nome, quantidade em estoque e preço.\n",
    "\n",
    "__Requisitos Opcionais__:\n",
    "\n",
    "- Implementar a funcionalidade de remover produtos, clientes ou funcionários.\n",
    "\n",
    "- Criar uma busca por nome ou código de produto, cliente ou funcionário.\n",
    "\n",
    "- Adicionar uma camada de validação (verificar dados válidos, como e-mails e datas).\n",
    "\n",
    "__Detalhes Técnicos__:\n",
    "\n",
    "- O sistema deve utilizar herança para definir as classes Pessoa (base), Cliente e Funcionario.\n",
    "\n",
    "- Utilizar subclasses de Produto (como Eletronico e Alimento) para modelar os tipos de produtos.\n",
    "\n",
    "- A manipulação de arquivos será feita utilizando JSON para salvar e carregar dados.\n",
    "\n",
    "- Todos os dados devem ser carregados no início do programa e salvos após cada modificação."
   ]
  }
 ],
 "metadata": {
  "language_info": {
   "name": "python"
  }
 },
 "nbformat": 4,
 "nbformat_minor": 5
}

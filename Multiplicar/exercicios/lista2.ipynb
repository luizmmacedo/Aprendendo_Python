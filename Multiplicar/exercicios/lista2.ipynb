{
 "cells": [
  {
   "cell_type": "markdown",
   "id": "09cdb028",
   "metadata": {},
   "source": [
    "#### Exercício 1 - Reverter Tupla"
   ]
  },
  {
   "cell_type": "markdown",
   "id": "558c6299",
   "metadata": {},
   "source": [
    "📖 Crie uma função que receba uma tupla e retorne seus elementos na ordem inversa.\n",
    "\n",
    "Entrada: (1, 2, 3) → Saída: (3, 2, 1)"
   ]
  },
  {
   "cell_type": "code",
   "execution_count": 33,
   "id": "a5627366",
   "metadata": {},
   "outputs": [
    {
     "data": {
      "text/plain": [
       "('teste', 123, 'string', 'b', 1)"
      ]
     },
     "execution_count": 33,
     "metadata": {},
     "output_type": "execute_result"
    }
   ],
   "source": [
    "# faça o código aqui\n",
    "ex1 = (1, 'b', \"string\", 123, \"teste\")\n",
    "def reverte_tupla (tupla):\n",
    "    \"\"\"Funcção que inverte os elementos em uma Tupla\"\"\"\n",
    "    tam_tupla = 0\n",
    "    tupla_invertida = ()\n",
    "    for indice, valor in enumerate (tupla):\n",
    "        tam_tupla = indice\n",
    "    for indice in range(indice, -1, -1):\n",
    "        tupla_invertida += (tupla[indice],)\n",
    "    return (tupla_invertida)\n",
    "\n",
    "reverte_tupla(ex1)"
   ]
  },
  {
   "cell_type": "markdown",
   "id": "a543397e",
   "metadata": {},
   "source": [
    "#### Exercício 2 - Soma de Números em String"
   ]
  },
  {
   "cell_type": "markdown",
   "id": "08eff84e",
   "metadata": {},
   "source": [
    "📖 Dada uma string com números separados por vírgula, retorne a soma.\n",
    "\n",
    "Entrada: \"1,2,3,4\" → Saída: 10\n",
    "\n",
    "PS: Busque aprender a função `split()`"
   ]
  },
  {
   "cell_type": "code",
   "execution_count": 78,
   "id": "444dbf3a",
   "metadata": {},
   "outputs": [
    {
     "data": {
      "text/plain": [
       "10"
      ]
     },
     "execution_count": 78,
     "metadata": {},
     "output_type": "execute_result"
    }
   ],
   "source": [
    "# faça o código aqui\n",
    "\n",
    "ex2 = \"1, 2, 3, 4\"\n",
    "def soma_numeros_string (ex2):\n",
    "    \"\"\"Função para somar todos valores que estão em uma string\"\"\"\n",
    "    numeros = (ex2.split(\",\"))\n",
    "    soma = 0\n",
    "    for valores in numeros:\n",
    "        soma += int (valores)\n",
    "    return (soma)\n",
    "\n",
    "soma_numeros_string (ex2)\n",
    "\n"
   ]
  },
  {
   "cell_type": "markdown",
   "id": "7d7fa64b",
   "metadata": {},
   "source": [
    "#### Exercício 3 - Palavra Mais Frequente"
   ]
  },
  {
   "cell_type": "markdown",
   "id": "099a675f",
   "metadata": {},
   "source": [
    "📖 Dado um texto, retorne a palavra que mais se repete e quantas vezes ela aparece.\n",
    "\n",
    "Entrada: \"hoje é hoje e amanhã é amanhã\" → Saída: \"hoje: 2\""
   ]
  },
  {
   "cell_type": "code",
   "execution_count": 111,
   "id": "c359b4af",
   "metadata": {},
   "outputs": [
    {
     "name": "stdout",
     "output_type": "stream",
     "text": [
      "3 texto\n"
     ]
    }
   ],
   "source": [
    "# faça o código aqui\n",
    "ex3 = \"palavra texto frequente texto segunda texto\"\n",
    "def palavra_frequente (ex3):\n",
    "    \"\"\"Função para verificar a palavra que mais aparece em um texto\"\"\"\n",
    "    texto = (ex3.split())\n",
    "    max_repeticoes = 0\n",
    "    mais_repetida = \"\"\n",
    "\n",
    "    for palavras1 in texto:\n",
    "        count = 0\n",
    "        for palavras2 in texto:\n",
    "            if palavras1==palavras2:\n",
    "                count += 1\n",
    "        if count > max_repeticoes:\n",
    "            max_repeticoes = count\n",
    "            mais_repetida = palavras1\n",
    "    print (max_repeticoes , mais_repetida)\n",
    "\n",
    "\n",
    "palavra_frequente(ex3)"
   ]
  },
  {
   "cell_type": "markdown",
   "id": "cc0b5c47",
   "metadata": {},
   "source": [
    "#### Exercício 4 - Jogo de Adivinhação"
   ]
  },
  {
   "cell_type": "markdown",
   "id": "3d05b63e",
   "metadata": {},
   "source": [
    "📖 Faça um jogo que sorteie um número de 1 a 10 e o usuário deve adivinhar. Dê dicas se o número é maior ou menor até acertar.\n",
    "\n",
    "PS: Aprenda a função `input()`"
   ]
  },
  {
   "cell_type": "code",
   "execution_count": null,
   "id": "027365d8",
   "metadata": {},
   "outputs": [
    {
     "name": "stdout",
     "output_type": "stream",
     "text": [
      "O 1 é menor que numero\n",
      "O 2 é menor que numero\n",
      "Você acertou o numero! É o numero: 3\n"
     ]
    }
   ],
   "source": [
    "# faça o código aqui\n",
    "import random\n",
    "ex4 =random.randint(1,10)\n",
    "def jogo_adivinha (resultado):\n",
    "    \"\"\"Função para adivinhar um numero entre 1 e 10\"\"\"\n",
    "    palpite = -1\n",
    "    while palpite != resultado :\n",
    "        palpite = int(input (\"Digite o seu palpite: \"))\n",
    "        if palpite > resultado:\n",
    "            print (\"O\",palpite,\"é maior que numero\")\n",
    "        elif palpite < resultado:\n",
    "            print (\"O\",palpite,\"é menor que numero\")\n",
    "        else:\n",
    "            print (\"Você acertou o numero! É o numero:\", resultado)\n",
    "            menu = palpite\n",
    "\n",
    "jogo_adivinha(ex4)"
   ]
  },
  {
   "cell_type": "markdown",
   "id": "ccd875d9",
   "metadata": {},
   "source": [
    "#### Exercício 5 - Comparador de Dicionários"
   ]
  },
  {
   "cell_type": "markdown",
   "id": "a6610e8e",
   "metadata": {},
   "source": [
    "📖 Crie uma função que compare dois dicionários e diga quais chaves são diferentes.\n",
    "\n",
    "Entrada: {'a':1, 'b':2}, {'a':1, 'c':3} → Saída: Chaves diferentes: b, c"
   ]
  },
  {
   "cell_type": "code",
   "execution_count": 94,
   "id": "575e6ca0",
   "metadata": {},
   "outputs": [
    {
     "name": "stdout",
     "output_type": "stream",
     "text": [
      "Chaves diferentes:\n",
      "c\n",
      "['d']\n"
     ]
    }
   ],
   "source": [
    "# faça o código aqui\n",
    "dicionario5_1 ={\n",
    "    \"a\": 1,\n",
    "    \"b\": 2,\n",
    "    \"c\": 3\n",
    "}\n",
    "dicionario5_2 ={\n",
    "    \"a\": 1,\n",
    "    \"b\": 2,\n",
    "    \"d\": 3\n",
    "}\n",
    "def comparar_dicionario (dicionario1, dicionario2):\n",
    "    \"\"\"Função para comparar dicionarios\"\"\"\n",
    "    chaves_diferentes = []\n",
    "    chaves_a = []\n",
    "    chaves_b= []\n",
    "    for valor in  (dicionario1):\n",
    "        chaves_a += [valor]\n",
    "    for valor2 in  (dicionario2):\n",
    "       chaves_b += [valor2]\n",
    "\n",
    "    for indice, valor in enumerate (chaves_a):\n",
    "        if chaves_a[indice] != chaves_b[indice]:\n",
    "            chaves_diferentes += ((chaves_a[indice]), (chaves_b[indice:]))\n",
    "    print (\"Chaves diferentes:\")\n",
    "    for valor in chaves_diferentes:\n",
    "        print (valor)\n",
    " \n",
    "comparar_dicionario(dicionario5_1, dicionario5_2)"
   ]
  },
  {
   "cell_type": "markdown",
   "id": "ce56d6e0",
   "metadata": {},
   "source": [
    "#### Exercício 6 - Filtro"
   ]
  },
  {
   "cell_type": "markdown",
   "id": "cb673500",
   "metadata": {},
   "source": [
    "📖 Crie uma função que receba uma lista de inteiros e um valor, a função deve retornar uma lista com todos os elementos que sejam superiores a esse valor.\n",
    "\n",
    "PS: Estude a função `filter()`"
   ]
  },
  {
   "cell_type": "code",
   "execution_count": 95,
   "id": "3c66079b",
   "metadata": {},
   "outputs": [
    {
     "data": {
      "text/plain": [
       "[8, 9, 10, 11]"
      ]
     },
     "execution_count": 95,
     "metadata": {},
     "output_type": "execute_result"
    }
   ],
   "source": [
    "# faça o código aqui\n",
    "valor6 = 7\n",
    "lista6 = [1, 2, 3, 4, 5, 6, 7, 8, 9, 10, 11]\n",
    "def filtro (lista_numeros, valor):\n",
    "    \"\"\"Função que recebe uma lista de inteiros e um valor e retorna lista com todos os elementos que sejam superiores a esse valor \"\"\"\n",
    "    lista_superior = []\n",
    "    for numeros in (lista_numeros):\n",
    "        if numeros > valor:\n",
    "            lista_superior += [numeros]\n",
    "            \n",
    "    return (lista_superior)\n",
    "\n",
    "\n",
    "filtro (lista6, valor6)"
   ]
  },
  {
   "cell_type": "markdown",
   "id": "6e31839b",
   "metadata": {},
   "source": [
    "#### Exercício 7 - Mapeamento"
   ]
  },
  {
   "cell_type": "markdown",
   "id": "c509faf1",
   "metadata": {},
   "source": [
    "📖 Crie uma função que receba uma lista de float e um valor, a função deve retornar ums lista com todos os elementos multiplicados por esse valor.\n",
    "\n",
    "PS: Estude a função `map()`."
   ]
  },
  {
   "cell_type": "code",
   "execution_count": null,
   "id": "2731f7a7",
   "metadata": {},
   "outputs": [],
   "source": [
    "class Mapeamento:\n",
    "    def __init__(self, valor: int ,lista: list):\n",
    "        self.valor: int = valor\n",
    "        self.lista: list = lista"
   ]
  },
  {
   "cell_type": "code",
   "execution_count": 48,
   "id": "10438f7d",
   "metadata": {},
   "outputs": [
    {
     "data": {
      "text/plain": [
       "[10.5, 16.099999999999998, 24.5, 39.9]"
      ]
     },
     "execution_count": 48,
     "metadata": {},
     "output_type": "execute_result"
    }
   ],
   "source": [
    "# faça o código aqui\n",
    "valor7 = 7\n",
    "lista7 = [1.5, 2.3, 3.5, 5.7]\n",
    "def filtro (lista_float, valor):\n",
    "    \"\"\"Função que recebe uma lista de float e um valor e retorna lista com todos os elementos multiplicados por esse valor \"\"\"\n",
    "    lista_multiplicada = []\n",
    "    for numeros in (lista_float):\n",
    "            calculo = 0\n",
    "            calculo = numeros * valor\n",
    "            lista_multiplicada += [calculo]\n",
    "            \n",
    "    return (lista_multiplicada)\n",
    "\n",
    "\n",
    "filtro (lista7, valor7)"
   ]
  },
  {
   "cell_type": "markdown",
   "id": "4b43da26",
   "metadata": {},
   "source": [
    "#### Exercício 8 - Dicionário com média de notas"
   ]
  },
  {
   "cell_type": "markdown",
   "id": "e04b0670",
   "metadata": {},
   "source": [
    "📖 Crie uma função que receba:\n",
    "\n",
    "1. Um dicionário onde a chave é o nome do aluno e o valor é uma lista de 3 notas.\n",
    "2. Um nome.\n",
    "\n",
    "A função deve retornar a média das notas do aluno cujo nome foi enviado por parâmetro.\n"
   ]
  },
  {
   "cell_type": "code",
   "execution_count": null,
   "id": "6ccdc73c",
   "metadata": {},
   "outputs": [
    {
     "name": "stdout",
     "output_type": "stream",
     "text": [
      "{'aluno1': [10, 8, 7], 'aluno2': [8, 3, 5], 'aluno3': [9, 7, 8], 'aluno4': [9, 4, 5]} com a nota de [10, 8, 7]\n",
      "8.333333333333334\n"
     ]
    }
   ],
   "source": [
    "class MediaNotas:\n",
    "    def __init__(self, dicionario_alunos: dict, nome: str):\n",
    "        self.dicionario_alunos: dict = dicionario_alunos\n",
    "        self.nome : str = nome\n",
    "    def __str__(self):\n",
    "        for alunos in self.dicionario_alunos:\n",
    "            return f'{self.dicionario_alunos} com a nota de {self.dicionario_alunos[alunos]}'\n",
    "    \n",
    "    def calcular_media(self, nome_aluno: str) -> str:\n",
    "        if nome_aluno == self.nome:\n",
    "            media = 0\n",
    "            soma = 0\n",
    "            for notas in self.dicionario_alunos[nome_aluno]:\n",
    "                soma += notas\n",
    "            media = soma/3\n",
    "            return f'{media}'    \n",
    "        else:\n",
    "            return f'O aluno não existe!'    \n",
    "\n",
    "dicionario8 ={\n",
    "    \"aluno1\": [10, 8, 7],\n",
    "    \"aluno2\" : [8, 3, 5],\n",
    "    \"aluno3\" : [9, 7, 8],\n",
    "    \"aluno4\" : [9, 4, 5],\n",
    "}\n",
    "\n",
    "funcao = MediaNotas(dicionario8, \"aluno1\")\n",
    "print (funcao.calcular_media('aluno1'))"
   ]
  },
  {
   "cell_type": "code",
   "execution_count": null,
   "id": "fcb71d25",
   "metadata": {},
   "outputs": [
    {
     "name": "stdout",
     "output_type": "stream",
     "text": [
      "A media do aluno aluno1 é: 8.333333333333334\n"
     ]
    }
   ],
   "source": [
    "# faça o código aqui\n",
    "dicionario8 ={\n",
    "    \"aluno1\": [10, 8, 7],\n",
    "    \"aluno2\" : [8, 3, 5],\n",
    "    \"aluno3\" : [9, 7, 8],\n",
    "    \"aluno4\" : [9, 4, 5],\n",
    "}\n",
    "aluno8 = \" \"\n",
    "def media_alunos (dicionario_media, nome_aluno):\n",
    "    \"\"\"Função para calcular media de alunos\"\"\"\n",
    "    media = 0\n",
    "    if nome_aluno in dicionario_media:\n",
    "        media = ((dicionario_media[nome_aluno][0]) + (dicionario_media[nome_aluno][1]) +(dicionario_media[nome_aluno][2]))/ 3\n",
    "    return media\n",
    "\n",
    "aluno8 = str(input (\"Digite o nome do aluno: \"))\n",
    "media_final = media_alunos(dicionario8, aluno8)\n",
    "print (f'A media do aluno {aluno8} é: {media_final}')"
   ]
  },
  {
   "cell_type": "markdown",
   "id": "35ce878a",
   "metadata": {},
   "source": [
    "#### Exercício 9 - Cadastro de produtos"
   ]
  },
  {
   "cell_type": "markdown",
   "id": "7c124e61",
   "metadata": {},
   "source": [
    "📖 Crie uma função para adicionar e uma função para remover elementos de uma lista.\n",
    "\n",
    "Os elementos são tuplas que seguem o seguinte padrão: `(nome, quantidade, preço)` de um determinado produto."
   ]
  },
  {
   "cell_type": "code",
   "execution_count": 6,
   "id": "a728ee4b",
   "metadata": {},
   "outputs": [
    {
     "name": "stdout",
     "output_type": "stream",
     "text": [
      "Nome: CASA CHINA | CNPJ: 123 | Quantidade de produtos: 0\n",
      "Nome: Lápis | Valor: R$ 2.00\n",
      "Nome: Lápis | Valor: R$ 2.00\n"
     ]
    }
   ],
   "source": [
    "class ProdutoImportado:\n",
    "    def __init__(self, nome: str, quantidade: int, valor: float): #construtor\n",
    "        self.nome: str = nome\n",
    "        self.quantidade: int = quantidade\n",
    "        self.valor: float = valor\n",
    "        \n",
    "    def __str__(self):\n",
    "        return f\"Nome: {self.nome} | Valor: R$ {self.valor:.2f}\"\n",
    "    \n",
    "\n",
    "class Loja:\n",
    "    def __init__(self, nome: str, cnpj: str, produtos: list[ProdutoImportado]):\n",
    "        self.nome: str = nome\n",
    "        self.cnpj: str = cnpj\n",
    "        self.produtos: list[ProdutoImportado] = produtos\n",
    "        self.quantidade_produtos: int = len(produtos)\n",
    "        \n",
    "    def __str__(self):\n",
    "        return f\"Nome: {self.nome} | CNPJ: {self.cnpj} | Quantidade de produtos: {self.quantidade_produtos}\"\n",
    "    \n",
    "    def retorna_quantidade(self):\n",
    "        return self.quantidade_produtos\n",
    "    \n",
    "    def cadastrar_produto(self, nome: str, quantidade: int, valor: float) -> str:\n",
    "        novo_produto = ProdutoImportado(nome,quantidade,valor)\n",
    "        self.produtos.append(novo_produto)\n",
    "        return \"Cadastro realizado com sucesso!\"\n",
    "    \n",
    "produto = ProdutoImportado(\"Lápis\", 5, 2.0)\n",
    "loja1 = Loja(\"CASA CHINA\",\"123\", [])\n",
    "loja1.cadastrar_produto(produto.nome, produto.quantidade, produto.valor)\n",
    "print(loja1)\n",
    "\n",
    "\n",
    "for p in loja1.produtos:\n",
    "    print(p)  # Mo\n",
    "print (produto)"
   ]
  },
  {
   "cell_type": "markdown",
   "id": "98776748",
   "metadata": {},
   "source": [
    "#### Exercício 10 - Desafio: Análise de Texto por Caracteres e Palavras"
   ]
  },
  {
   "cell_type": "markdown",
   "id": "9a70cd69",
   "metadata": {},
   "source": [
    "📖 Crie uma função que recebe um texto e retorna um resumo com:\n",
    "\n",
    "1. Quantidade total de palavras\n",
    "2. Quantidade total de letras\n",
    "3. Quantidade de cada letra (frequência)\n",
    "4. Quantidade de palavras únicas\n",
    "5. Palavra mais longa\n",
    "6. Quantidade de vogais e consoantes\n",
    "7. A letra mais frequente"
   ]
  },
  {
   "cell_type": "code",
   "execution_count": 57,
   "id": "f84e88d0",
   "metadata": {},
   "outputs": [
    {
     "name": "stdout",
     "output_type": "stream",
     "text": [
      "1. Quantidade total de palavras: 11\n",
      "2. Quantidade total de letras: 55\n",
      "3. Quantidade de cada letra(frequencia): A letra e aparece 8 vezes\n",
      "4. Quantidade de palavras únicas: ['Exemplo', 'de', 'para', 'a', 'questão', 'que', 'solicita', 'um', 'supergrande']\n",
      "5. Palavra mais longa: supergrande\n",
      "6. Quantiadade de vogais: ({'E': 9, 'O': 5, 'A': 5, 'U': 4, 'I': 2}, {'X': 3, 'M': 2, 'P': 3, 'L': 2, ' ': 10, 'D': 2, 'T': 6, 'R': 3, 'Q': 2, 'S': 3, 'Ã': 1, 'C': 1, 'G': 1, 'N': 1})\n",
      "7. A letra mais frequente: A letra mais frequente é ('texto', 2)\n"
     ]
    }
   ],
   "source": [
    "texto = \"Exemplo de texto para a questão que solicita um texto supergrande\"\n",
    "\n",
    "class resumo_texto:\n",
    "    def __init__(self, texto :str):\n",
    "        self.texto: str = texto\n",
    "        self.texto_palavras: str = texto\n",
    "\n",
    "    def __str__(self):\n",
    "        return f'{self.texto}'\n",
    "    \n",
    "    def quantidade_total_palavras(self) -> int:\n",
    "        self.texto_palavras = (self.texto.split())\n",
    "        return len(self.texto_palavras)\n",
    "    \n",
    "    def quantidade_total_letra(self) -> int:\n",
    "        qnt_letras = 0\n",
    "        for letras in self.texto:\n",
    "            if letras != \" \": qnt_letras += 1\n",
    "        return qnt_letras\n",
    "    \n",
    "    def frequencia_letra(self) -> str:\n",
    "        letras_dicionario = {}\n",
    "        for letras in self.texto:\n",
    "            if letras != \" \": \n",
    "                if letras in letras_dicionario:\n",
    "                    letras_dicionario[letras] += 1\n",
    "                else:\n",
    "                    letras_dicionario[letras] = 1\n",
    "        indice_frequente_letras = 0\n",
    "        for letras in letras_dicionario:\n",
    "            if (letras_dicionario[letras]> indice_frequente_letras):\n",
    "                indice_frequente_letras = letras_dicionario[letras]\n",
    "                letra_mais_frequente = letras\n",
    "        return letra_mais_frequente, indice_frequente_letras\n",
    "        \n",
    "    def palavra_unica(self) -> str:\n",
    "        todas_palavras = {}\n",
    "        for palavras in self.texto_palavras:\n",
    "            if palavras != \" \": \n",
    "                if palavras in todas_palavras:\n",
    "                    todas_palavras[palavras] += 1\n",
    "                else:\n",
    "                    todas_palavras[palavras] = 1\n",
    "        palavra_unica = []\n",
    "        for palavras in todas_palavras:\n",
    "            if (todas_palavras[palavras] == 1):\n",
    "                palavra_unica += (palavras, )\n",
    "             \n",
    "        return palavra_unica\n",
    "    \n",
    "    def palavra_mais_longa(self) -> str:\n",
    "        palavra_longa = self.texto_palavras[0]\n",
    "        for palavra in self.texto_palavras:\n",
    "            if len(palavra) > len(palavra_longa) : palavra_longa = palavra\n",
    "        return palavra_longa\n",
    "    \n",
    "    def vogal_consoante (self) -> str:\n",
    "        qnt_vogais = {}\n",
    "        qnt_consoante = {}\n",
    "        for letra in self.texto:\n",
    "            letra = letra.upper()\n",
    "            if letra.upper() in ['A','E','I','O','U']:\n",
    "                if letra in qnt_vogais:\n",
    "                    qnt_vogais[letra] += 1\n",
    "                else:\n",
    "                    qnt_vogais[letra] = 1\n",
    "            else:\n",
    "                if letra in qnt_consoante:\n",
    "                    qnt_consoante[letra] += 1\n",
    "                else:\n",
    "                    qnt_consoante[letra] = 1 \n",
    "\n",
    "        return qnt_vogais, qnt_consoante\n",
    "    \n",
    "    def frequencia_palavra(self) -> str:\n",
    "        palavras_dicionario = {}\n",
    "        for palavra in self.texto_palavras:\n",
    "            if palavra != \" \": \n",
    "                if palavra in palavras_dicionario:\n",
    "                    palavras_dicionario[palavra] += 1\n",
    "                else:\n",
    "                    palavras_dicionario[palavra] = 1\n",
    "        indice_frequente_palavra = 0\n",
    "        for palavra in palavras_dicionario:\n",
    "            if (palavras_dicionario[palavra]> indice_frequente_palavra):\n",
    "                indice_frequente_palavra = palavras_dicionario[palavra]\n",
    "                letra_mais_frequente = palavra\n",
    "        return letra_mais_frequente, indice_frequente_palavra  \n",
    "        \n",
    "resumo = resumo_texto(texto)\n",
    "print (f'1. Quantidade total de palavras: {resumo.quantidade_total_palavras()}')\n",
    "print (f'2. Quantidade total de letras: {resumo.quantidade_total_letra()}')\n",
    "print (f'3. Quantidade de cada letra(frequencia): A letra {resumo.frequencia_letra()[0]} aparece {resumo.frequencia_letra()[1]} vezes')\n",
    "print (f'4. Quantidade de palavras únicas: {resumo.palavra_unica()}')   #bo\n",
    "print (f'5. Palavra mais longa: {resumo.palavra_mais_longa()}')\n",
    "print (f'6. Quantiadade de vogais: {resumo.vogal_consoante()}')\n",
    "print (f'7. A letra mais frequente: A letra mais frequente é {resumo.frequencia_palavra()}')\n",
    "\n",
    "\n",
    "\n",
    "\n"
   ]
  },
  {
   "cell_type": "code",
   "execution_count": null,
   "id": "ebd34da1",
   "metadata": {},
   "outputs": [],
   "source": []
  }
 ],
 "metadata": {
  "kernelspec": {
   "display_name": ".venv",
   "language": "python",
   "name": "python3"
  },
  "language_info": {
   "codemirror_mode": {
    "name": "ipython",
    "version": 3
   },
   "file_extension": ".py",
   "mimetype": "text/x-python",
   "name": "python",
   "nbconvert_exporter": "python",
   "pygments_lexer": "ipython3",
   "version": "3.11.9"
  }
 },
 "nbformat": 4,
 "nbformat_minor": 5
}
